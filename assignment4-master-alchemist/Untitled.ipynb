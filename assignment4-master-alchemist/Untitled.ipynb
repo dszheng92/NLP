{
 "cells": [
  {
   "cell_type": "code",
   "execution_count": 1,
   "metadata": {},
   "outputs": [],
   "source": [
    "import numpy as np\n",
    "import json\n",
    "from collections import Counter\n",
    "import seaborn as sns\n",
    "import matplotlib.pyplot as plt\n",
    "import string\n",
    "translator = str.maketrans('', '', string.punctuation)\n",
    "import dynet as dy\n",
    "import random"
   ]
  },
  {
   "cell_type": "code",
   "execution_count": 2,
   "metadata": {},
   "outputs": [
    {
     "data": {
      "text/plain": [
       "'adasd'"
      ]
     },
     "execution_count": 2,
     "metadata": {},
     "output_type": "execute_result"
    }
   ],
   "source": [
    "\"'adasd;'\".translate(translator)"
   ]
  },
  {
   "cell_type": "code",
   "execution_count": 3,
   "metadata": {},
   "outputs": [],
   "source": [
    "x_train = json.load(open('train.json'))"
   ]
  },
  {
   "cell_type": "code",
   "execution_count": 4,
   "metadata": {},
   "outputs": [
    {
     "data": {
      "text/plain": [
       "[{'identifier': 'train-A9164',\n",
       "  'initial_env': '1:ggg 2:_ 3:_ 4:_ 5:o 6:ooo 7:gggg',\n",
       "  'utterances': [{'actions': ['pop 1', 'pop 1'],\n",
       "    'after_env': '1:g 2:_ 3:_ 4:_ 5:o 6:ooo 7:gggg',\n",
       "    'instruction': 'throw out two units of first beaker'},\n",
       "   {'actions': ['pop 5'],\n",
       "    'after_env': '1:g 2:_ 3:_ 4:_ 5:_ 6:ooo 7:gggg',\n",
       "    'instruction': 'throw out fifth beaker'},\n",
       "   {'actions': ['pop 1'],\n",
       "    'after_env': '1:_ 2:_ 3:_ 4:_ 5:_ 6:ooo 7:gggg',\n",
       "    'instruction': 'throw out first one'},\n",
       "   {'actions': ['pop 6', 'pop 6', 'pop 6'],\n",
       "    'after_env': '1:_ 2:_ 3:_ 4:_ 5:_ 6:_ 7:gggg',\n",
       "    'instruction': 'throw out orange beaker'},\n",
       "   {'actions': ['pop 7'],\n",
       "    'after_env': '1:_ 2:_ 3:_ 4:_ 5:_ 6:_ 7:ggg',\n",
       "    'instruction': 'throw out one unit of green'}]}]"
      ]
     },
     "execution_count": 4,
     "metadata": {},
     "output_type": "execute_result"
    }
   ],
   "source": [
    "x_train[:1]"
   ]
  },
  {
   "cell_type": "code",
   "execution_count": 5,
   "metadata": {},
   "outputs": [],
   "source": [
    "ins_exp = [[step['instruction'].translate(translator) for step in exp['utterances']] for exp in x_train]"
   ]
  },
  {
   "cell_type": "code",
   "execution_count": 6,
   "metadata": {},
   "outputs": [],
   "source": [
    "act_exp = [[step['actions'] for step in exp['utterances']] for exp in x_train]"
   ]
  },
  {
   "cell_type": "code",
   "execution_count": 7,
   "metadata": {},
   "outputs": [
    {
     "data": {
      "text/plain": [
       "['throw out one unit of last beaker',\n",
       " 'throw out three units of third one',\n",
       " 'pour fourth beaker into it',\n",
       " 'it turns brown',\n",
       " 'throw out one unit of it']"
      ]
     },
     "execution_count": 7,
     "metadata": {},
     "output_type": "execute_result"
    }
   ],
   "source": [
    "ins_exp[1]"
   ]
  },
  {
   "cell_type": "code",
   "execution_count": 8,
   "metadata": {},
   "outputs": [
    {
     "data": {
      "text/plain": [
       "[['pop 7'],\n",
       " ['pop 3', 'pop 3', 'pop 3'],\n",
       " ['push 3 o', 'pop 4'],\n",
       " ['pop 3', 'pop 3', 'push 3 b', 'push 3 b'],\n",
       " ['pop 3']]"
      ]
     },
     "execution_count": 8,
     "metadata": {},
     "output_type": "execute_result"
    }
   ],
   "source": [
    "act_exp[1]"
   ]
  },
  {
   "cell_type": "code",
   "execution_count": 9,
   "metadata": {},
   "outputs": [
    {
     "name": "stdout",
     "output_type": "stream",
     "text": [
      "CPU times: user 45.8 ms, sys: 7.34 ms, total: 53.1 ms\n",
      "Wall time: 58.2 ms\n"
     ]
    }
   ],
   "source": [
    "%%time\n",
    "ins = [j.replace(\"'\",'') for i in ins_exp for j in i]\n",
    "act = [(['<start>']+j+['<end>']) for i in act_exp for j in i]"
   ]
  },
  {
   "cell_type": "code",
   "execution_count": 10,
   "metadata": {},
   "outputs": [
    {
     "data": {
      "text/plain": [
       "'throw out three units of third one'"
      ]
     },
     "execution_count": 10,
     "metadata": {},
     "output_type": "execute_result"
    }
   ],
   "source": [
    "ins[6]"
   ]
  },
  {
   "cell_type": "code",
   "execution_count": 11,
   "metadata": {},
   "outputs": [
    {
     "data": {
      "text/plain": [
       "[['<start>', 'pop 1', 'pop 1', '<end>'], ['<start>', 'pop 5', '<end>']]"
      ]
     },
     "execution_count": 11,
     "metadata": {},
     "output_type": "execute_result"
    }
   ],
   "source": [
    "act[:2]"
   ]
  },
  {
   "cell_type": "code",
   "execution_count": 12,
   "metadata": {},
   "outputs": [],
   "source": [
    "words_ins = [word for sentence in ins for word in (sentence.split())]"
   ]
  },
  {
   "cell_type": "code",
   "execution_count": 13,
   "metadata": {},
   "outputs": [],
   "source": [
    "words_act = [word for sentence in act for word in (sentence)]"
   ]
  },
  {
   "cell_type": "code",
   "execution_count": 14,
   "metadata": {},
   "outputs": [],
   "source": [
    "act_counter = Counter(words_act)\n",
    "ins_counter = Counter(words_ins)"
   ]
  },
  {
   "cell_type": "code",
   "execution_count": 15,
   "metadata": {},
   "outputs": [
    {
     "data": {
      "text/plain": [
       "'throw out fifth beaker'"
      ]
     },
     "execution_count": 15,
     "metadata": {},
     "output_type": "execute_result"
    }
   ],
   "source": [
    "ins[1]"
   ]
  },
  {
   "cell_type": "code",
   "execution_count": 16,
   "metadata": {},
   "outputs": [
    {
     "data": {
      "text/plain": [
       "610"
      ]
     },
     "execution_count": 16,
     "metadata": {},
     "output_type": "execute_result"
    }
   ],
   "source": [
    "len(ins_counter.keys())"
   ]
  },
  {
   "cell_type": "code",
   "execution_count": 17,
   "metadata": {},
   "outputs": [
    {
     "name": "stderr",
     "output_type": "stream",
     "text": [
      "/Users/Work/anaconda2/envs/py35/lib/python3.5/site-packages/matplotlib/axes/_axes.py:6462: UserWarning: The 'normed' kwarg is deprecated, and has been replaced by the 'density' kwarg.\n",
      "  warnings.warn(\"The 'normed' kwarg is deprecated, and has been \"\n"
     ]
    },
    {
     "data": {
      "text/plain": [
       "<matplotlib.axes._subplots.AxesSubplot at 0x11221cb70>"
      ]
     },
     "execution_count": 17,
     "metadata": {},
     "output_type": "execute_result"
    },
    {
     "data": {
      "image/png": "[encoded data removed]",
      "text/plain": [
       "<Figure size 432x288 with 1 Axes>"
      ]
     },
     "metadata": {},
     "output_type": "display_data"
    }
   ],
   "source": [
    "sns.distplot(np.log(list(ins_counter.values())),bins=20)"
   ]
  },
  {
   "cell_type": "code",
   "execution_count": 18,
   "metadata": {},
   "outputs": [],
   "source": [
    "words_ins_cor = [x if ins_counter[x]>=3 else '<unknown>' for x in words_ins]"
   ]
  },
  {
   "cell_type": "code",
   "execution_count": 19,
   "metadata": {},
   "outputs": [
    {
     "data": {
      "text/plain": [
       "342"
      ]
     },
     "execution_count": 19,
     "metadata": {},
     "output_type": "execute_result"
    }
   ],
   "source": [
    "len(Counter(words_ins_cor))"
   ]
  },
  {
   "cell_type": "code",
   "execution_count": 20,
   "metadata": {},
   "outputs": [],
   "source": [
    "vocab_set = set(words_ins_cor)\n",
    "vocab = sorted(vocab_set)\n",
    "vocab_dic = {}\n",
    "for i, word in enumerate(vocab):\n",
    "    vocab_dic[word]=i"
   ]
  },
  {
   "cell_type": "code",
   "execution_count": 21,
   "metadata": {},
   "outputs": [],
   "source": [
    "vocab_out = sorted(set(words_act))"
   ]
  },
  {
   "cell_type": "code",
   "execution_count": 22,
   "metadata": {},
   "outputs": [
    {
     "data": {
      "text/plain": [
       "51"
      ]
     },
     "execution_count": 22,
     "metadata": {},
     "output_type": "execute_result"
    }
   ],
   "source": [
    "len(vocab_out)"
   ]
  },
  {
   "cell_type": "markdown",
   "metadata": {},
   "source": [
    "## Dynet"
   ]
  },
  {
   "cell_type": "code",
   "execution_count": 23,
   "metadata": {},
   "outputs": [],
   "source": [
    "LAYERS = 1\n",
    "INPUT_DIM = 50\n",
    "HIDDEN_DIM = 100\n",
    "VOCAB_SIZE_input = len(vocab)\n",
    "VOCAB_SIZE_out= len(vocab_out)"
   ]
  },
  {
   "cell_type": "code",
   "execution_count": 24,
   "metadata": {},
   "outputs": [],
   "source": [
    "pc = dy.ParameterCollection()\n",
    "encoder = dy.LSTMBuilder(LAYERS, INPUT_DIM, HIDDEN_DIM, pc)\n",
    "decoder = dy.LSTMBuilder(LAYERS, INPUT_DIM+HIDDEN_DIM, HIDDEN_DIM, pc)\n",
    "params_encoder={}\n",
    "params_encoder[\"lookup\"] = pc.add_lookup_parameters((VOCAB_SIZE_input, INPUT_DIM))\n",
    "params_decoder= {}\n",
    "params_decoder[\"lookup\"] = pc.add_lookup_parameters((VOCAB_SIZE_out, INPUT_DIM))\n",
    "params_decoder[\"R\"] = pc.add_parameters((VOCAB_SIZE_out, HIDDEN_DIM))\n",
    "params_decoder[\"bias\"] = pc.add_parameters((VOCAB_SIZE_out))"
   ]
  },
  {
   "cell_type": "code",
   "execution_count": 25,
   "metadata": {},
   "outputs": [],
   "source": [
    "def do_one_sentence(encoder,decoder, params_encoder,params_decoder, sentence,output):\n",
    "    # setup the sentence\n",
    "    dy.renew_cg()\n",
    "    s0 = encoder.initial_state()\n",
    "    lookup = params_encoder[\"lookup\"]\n",
    "    sentence = sentence.split()\n",
    "    sentence = [vocab.index(c) if c in vocab else vocab.index('<unknown>') for c in sentence]\n",
    "    s = s0\n",
    "    loss = []\n",
    "    generate = []\n",
    "    for word in (sentence):\n",
    "        s = s.add_input(lookup[word])\n",
    "    encode_output = s.output()\n",
    "    \n",
    "    _s0 = decoder.initial_state()\n",
    "    _s = _s0\n",
    "    R = params_decoder[\"R\"]\n",
    "    bias = params_decoder[\"bias\"]\n",
    "    index=1\n",
    "    input_word = \"<start>\"\n",
    "    _lookup = params_decoder[\"lookup\"]\n",
    "    while True:\n",
    "        #print(output[index])\n",
    "        word = vocab_out.index(input_word)\n",
    "        gt_y = vocab_out.index(output[index])\n",
    "        #print((dy.concatenate([_lookup[word],encode_output])).npvalue().shape\n",
    "        #     )\n",
    "        _s = _s.add_input(dy.concatenate([_lookup[word],encode_output]))\n",
    "        #print((np.array(_s.output().value()).dot(R.as_array().T )).shape)\n",
    "        probs = dy.softmax((R) * _s.output() + bias)\n",
    "        prediction = np.argmax(probs.value())\n",
    "        generate.append(vocab_out[prediction])\n",
    "        loss.append( -dy.log(dy.pick(probs,gt_y)) )\n",
    "        if output[index] == '<end>':\n",
    "            break\n",
    "        index+=1\n",
    "        input_word = vocab_out[prediction]\n",
    "\n",
    "    loss = dy.esum(loss)\n",
    "    return loss,generate"
   ]
  },
  {
   "cell_type": "code",
   "execution_count": 26,
   "metadata": {},
   "outputs": [
    {
     "name": "stdout",
     "output_type": "stream",
     "text": [
      "Epoch0\n",
      "throw out two units of first beaker ['<start>', 'pop 1', 'pop 1', '<end>'] ['pop 7', '<end>', '<end>']\n",
      "throw out one unit of last beaker ['<start>', 'pop 7', '<end>'] ['<end>', '<end>']\n",
      "throw out three units of third one ['<start>', 'pop 3', 'pop 3', 'pop 3', '<end>'] ['<end>', '<end>', '<end>', '<end>']\n",
      "7.4870231373\t6.6923611988\t6.5617515441\t6.3022048811\t6.1328391033\t6.0957018544\t5.8106522924\t5.6429601336\t5.3718946125\tEpoch1\n",
      "throw out two units of first beaker ['<start>', 'pop 1', 'pop 1', '<end>'] ['pop 1', 'pop 1', '<end>']\n",
      "throw out one unit of last beaker ['<start>', 'pop 7', '<end>'] ['pop 7', '<end>']\n",
      "throw out three units of third one ['<start>', 'pop 3', 'pop 3', 'pop 3', '<end>'] ['pop 3', 'pop 3', 'pop 3', '<end>']\n",
      "5.1013986261\t5.5540914090\t5.1907015629\t5.0097754532\t4.9991333253\t5.1530043918\t4.9308429158\t4.9517879990\t"
     ]
    },
    {
     "ename": "KeyboardInterrupt",
     "evalue": "",
     "output_type": "error",
     "traceback": [
      "\u001b[0;31m--------------------\u001b[0m",
      "\u001b[0;31mKeyboardInterrupt\u001b[0mTraceback (most recent call last)",
      "\u001b[0;32m<ipython-input-26-11cf9535c55c>\u001b[0m in \u001b[0;36m<module>\u001b[0;34m()\u001b[0m\n\u001b[1;32m      8\u001b[0m         \u001b[0mloss\u001b[0m\u001b[0;34m,\u001b[0m\u001b[0mgenerate\u001b[0m \u001b[0;34m=\u001b[0m \u001b[0mdo_one_sentence\u001b[0m\u001b[0;34m(\u001b[0m\u001b[0mencoder\u001b[0m\u001b[0;34m,\u001b[0m\u001b[0mdecoder\u001b[0m\u001b[0;34m,\u001b[0m \u001b[0mparams_encoder\u001b[0m\u001b[0;34m,\u001b[0m\u001b[0mparams_decoder\u001b[0m\u001b[0;34m,\u001b[0m \u001b[0msentence\u001b[0m\u001b[0;34m,\u001b[0m\u001b[0moutput\u001b[0m\u001b[0;34m)\u001b[0m\u001b[0;34m\u001b[0m\u001b[0m\n\u001b[1;32m      9\u001b[0m         \u001b[0mloss_value\u001b[0m \u001b[0;34m=\u001b[0m \u001b[0mloss\u001b[0m\u001b[0;34m.\u001b[0m\u001b[0mvalue\u001b[0m\u001b[0;34m(\u001b[0m\u001b[0;34m)\u001b[0m\u001b[0;34m\u001b[0m\u001b[0m\n\u001b[0;32m---> 10\u001b[0;31m         \u001b[0mloss\u001b[0m\u001b[0;34m.\u001b[0m\u001b[0mbackward\u001b[0m\u001b[0;34m(\u001b[0m\u001b[0;34m)\u001b[0m\u001b[0;34m\u001b[0m\u001b[0m\n\u001b[0m\u001b[1;32m     11\u001b[0m         \u001b[0mtrainer\u001b[0m\u001b[0;34m.\u001b[0m\u001b[0mupdate\u001b[0m\u001b[0;34m(\u001b[0m\u001b[0;34m)\u001b[0m\u001b[0;34m\u001b[0m\u001b[0m\n\u001b[1;32m     12\u001b[0m         \u001b[0msum\u001b[0m\u001b[0;34m+=\u001b[0m\u001b[0mloss_value\u001b[0m\u001b[0;34m\u001b[0m\u001b[0m\n",
      "\u001b[0;31mKeyboardInterrupt\u001b[0m: "
     ]
    }
   ],
   "source": [
    "for i in range(10):    \n",
    "    print('Epoch%d' % i)\n",
    "    count=0\n",
    "    sum=0\n",
    "    for sentence, output in zip(ins,act):\n",
    "        count+=1\n",
    "        trainer = dy.SimpleSGDTrainer(pc)\n",
    "        loss,generate = do_one_sentence(encoder,decoder, params_encoder,params_decoder, sentence,output)\n",
    "        loss_value = loss.value()\n",
    "        loss.backward()\n",
    "        trainer.update()\n",
    "        sum+=loss_value\n",
    "        if count % 2000 == 0:\n",
    "            print(\"%.10f\" % (sum/2000), end=\"\\t\")\n",
    "            sum=0\n",
    "        if count==1 or (count==6) or (count==7) :\n",
    "            print(sentence,output,generate)\n",
    "\n",
    "        #print(generate(rnn, params))"
   ]
  },
  {
   "cell_type": "code",
   "execution_count": null,
   "metadata": {},
   "outputs": [],
   "source": []
  },
  {
   "cell_type": "code",
   "execution_count": null,
   "metadata": {},
   "outputs": [],
   "source": []
  },
  {
   "cell_type": "markdown",
   "metadata": {},
   "source": [
    "### Scrach for DyNet"
   ]
  },
  {
   "cell_type": "code",
   "execution_count": null,
   "metadata": {},
   "outputs": [],
   "source": [
    "a=dy.inputTensor([0.1,0.4,0.5])"
   ]
  },
  {
   "cell_type": "code",
   "execution_count": null,
   "metadata": {},
   "outputs": [],
   "source": [
    "dy.pick(a).value()"
   ]
  },
  {
   "cell_type": "code",
   "execution_count": null,
   "metadata": {},
   "outputs": [],
   "source": [
    "np.argmax([0.1,0.2,0.3])"
   ]
  },
  {
   "cell_type": "code",
   "execution_count": null,
   "metadata": {},
   "outputs": [],
   "source": [
    "    def sample(probs):\n",
    "        rnd = random.random()\n",
    "        for i,p in enumerate(probs):\n",
    "            rnd -= p\n",
    "            if rnd <= 0: break\n",
    "        return i"
   ]
  },
  {
   "cell_type": "code",
   "execution_count": 158,
   "metadata": {},
   "outputs": [
    {
     "data": {
      "text/plain": [
       "2"
      ]
     },
     "execution_count": 158,
     "metadata": {},
     "output_type": "execute_result"
    }
   ],
   "source": [
    "sample([0.1,0.2,0.3])"
   ]
  },
  {
   "cell_type": "code",
   "execution_count": 131,
   "metadata": {},
   "outputs": [],
   "source": [
    "rnd = random.random()"
   ]
  },
  {
   "cell_type": "code",
   "execution_count": 126,
   "metadata": {},
   "outputs": [
    {
     "data": {
      "text/plain": [
       "0.8238484676667333"
      ]
     },
     "execution_count": 126,
     "metadata": {},
     "output_type": "execute_result"
    }
   ],
   "source": [
    "rnd"
   ]
  },
  {
   "cell_type": "code",
   "execution_count": 174,
   "metadata": {},
   "outputs": [
    {
     "data": {
      "text/plain": [
       "[0.2603025436401367, 0.351371705532074, 0.3883257806301117]"
      ]
     },
     "execution_count": 174,
     "metadata": {},
     "output_type": "execute_result"
    }
   ],
   "source": [
    "dy.softmax(a).value()"
   ]
  },
  {
   "cell_type": "code",
   "execution_count": 268,
   "metadata": {},
   "outputs": [
    {
     "data": {
      "text/plain": [
       "((3,), 1)"
      ]
     },
     "execution_count": 268,
     "metadata": {},
     "output_type": "execute_result"
    }
   ],
   "source": [
    "a.dim()"
   ]
  },
  {
   "cell_type": "code",
   "execution_count": null,
   "metadata": {},
   "outputs": [],
   "source": []
  }
 ],
 "metadata": {
  "kernelspec": {
   "display_name": "python3.5",
   "language": "python",
   "name": "python3.5"
  },
  "language_info": {
   "codemirror_mode": {
    "name": "ipython",
    "version": 3
   },
   "file_extension": ".py",
   "mimetype": "text/x-python",
   "name": "python",
   "nbconvert_exporter": "python",
   "pygments_lexer": "ipython3",
   "version": "3.5.5"
  }
 },
 "nbformat": 4,
 "nbformat_minor": 2
}
